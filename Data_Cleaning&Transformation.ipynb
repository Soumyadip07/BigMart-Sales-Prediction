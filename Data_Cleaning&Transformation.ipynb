{
 "cells": [
  {
   "cell_type": "code",
   "execution_count": 1,
   "id": "9d9f4c73-d742-43ab-b6b1-d2fcf36f8c96",
   "metadata": {},
   "outputs": [],
   "source": [
    "import pandas as pd\n",
    "import numpy as np"
   ]
  },
  {
   "cell_type": "code",
   "execution_count": 2,
   "id": "9fa0bb6b-da50-45f1-8aac-fd93ba4c3f6b",
   "metadata": {},
   "outputs": [],
   "source": [
    "train_data=pd.read_csv(\"train_v9rqX0R.csv\")\n",
    "test_data=pd.read_csv(\"test_AbJTz2l.csv\")"
   ]
  },
  {
   "cell_type": "code",
   "execution_count": 3,
   "id": "679e4300-a836-4ff0-bab2-ee00daccb404",
   "metadata": {},
   "outputs": [
    {
     "name": "stdout",
     "output_type": "stream",
     "text": [
      "(8523, 12)\n",
      "(5681, 11)\n"
     ]
    }
   ],
   "source": [
    "print(train_data.shape)\n",
    "print(test_data.shape)"
   ]
  },
  {
   "cell_type": "code",
   "execution_count": 4,
   "id": "c4705eed-93f9-406e-90b0-1df0ec906d3f",
   "metadata": {},
   "outputs": [
    {
     "name": "stdout",
     "output_type": "stream",
     "text": [
      "Index(['Item_Identifier', 'Item_Weight', 'Item_Fat_Content', 'Item_Visibility',\n",
      "       'Item_Type', 'Item_MRP', 'Outlet_Identifier',\n",
      "       'Outlet_Establishment_Year', 'Outlet_Size', 'Outlet_Location_Type',\n",
      "       'Outlet_Type', 'Item_Outlet_Sales'],\n",
      "      dtype='object')\n"
     ]
    }
   ],
   "source": [
    "print(train_data.columns)"
   ]
  },
  {
   "cell_type": "code",
   "execution_count": 5,
   "id": "218a640d-0682-4431-9915-bb6f28edd18e",
   "metadata": {},
   "outputs": [
    {
     "name": "stdout",
     "output_type": "stream",
     "text": [
      "<class 'pandas.core.frame.DataFrame'>\n",
      "RangeIndex: 8523 entries, 0 to 8522\n",
      "Data columns (total 12 columns):\n",
      " #   Column                     Non-Null Count  Dtype  \n",
      "---  ------                     --------------  -----  \n",
      " 0   Item_Identifier            8523 non-null   object \n",
      " 1   Item_Weight                7060 non-null   float64\n",
      " 2   Item_Fat_Content           8523 non-null   object \n",
      " 3   Item_Visibility            8523 non-null   float64\n",
      " 4   Item_Type                  8523 non-null   object \n",
      " 5   Item_MRP                   8523 non-null   float64\n",
      " 6   Outlet_Identifier          8523 non-null   object \n",
      " 7   Outlet_Establishment_Year  8523 non-null   int64  \n",
      " 8   Outlet_Size                6113 non-null   object \n",
      " 9   Outlet_Location_Type       8523 non-null   object \n",
      " 10  Outlet_Type                8523 non-null   object \n",
      " 11  Item_Outlet_Sales          8523 non-null   float64\n",
      "dtypes: float64(4), int64(1), object(7)\n",
      "memory usage: 799.2+ KB\n"
     ]
    }
   ],
   "source": [
    "train_data.info()"
   ]
  },
  {
   "cell_type": "code",
   "execution_count": 6,
   "id": "07da1a7e-b16c-4ffc-afef-40069772330d",
   "metadata": {},
   "outputs": [
    {
     "data": {
      "text/html": [
       "<div>\n",
       "<style scoped>\n",
       "    .dataframe tbody tr th:only-of-type {\n",
       "        vertical-align: middle;\n",
       "    }\n",
       "\n",
       "    .dataframe tbody tr th {\n",
       "        vertical-align: top;\n",
       "    }\n",
       "\n",
       "    .dataframe thead th {\n",
       "        text-align: right;\n",
       "    }\n",
       "</style>\n",
       "<table border=\"1\" class=\"dataframe\">\n",
       "  <thead>\n",
       "    <tr style=\"text-align: right;\">\n",
       "      <th></th>\n",
       "      <th>Item_Weight</th>\n",
       "      <th>Item_Visibility</th>\n",
       "      <th>Item_MRP</th>\n",
       "      <th>Outlet_Establishment_Year</th>\n",
       "      <th>Item_Outlet_Sales</th>\n",
       "    </tr>\n",
       "  </thead>\n",
       "  <tbody>\n",
       "    <tr>\n",
       "      <th>count</th>\n",
       "      <td>7060.000000</td>\n",
       "      <td>8523.000000</td>\n",
       "      <td>8523.000000</td>\n",
       "      <td>8523.000000</td>\n",
       "      <td>8523.000000</td>\n",
       "    </tr>\n",
       "    <tr>\n",
       "      <th>mean</th>\n",
       "      <td>12.857645</td>\n",
       "      <td>0.066132</td>\n",
       "      <td>140.992782</td>\n",
       "      <td>1997.831867</td>\n",
       "      <td>2181.288914</td>\n",
       "    </tr>\n",
       "    <tr>\n",
       "      <th>std</th>\n",
       "      <td>4.643456</td>\n",
       "      <td>0.051598</td>\n",
       "      <td>62.275067</td>\n",
       "      <td>8.371760</td>\n",
       "      <td>1706.499616</td>\n",
       "    </tr>\n",
       "    <tr>\n",
       "      <th>min</th>\n",
       "      <td>4.555000</td>\n",
       "      <td>0.000000</td>\n",
       "      <td>31.290000</td>\n",
       "      <td>1985.000000</td>\n",
       "      <td>33.290000</td>\n",
       "    </tr>\n",
       "    <tr>\n",
       "      <th>25%</th>\n",
       "      <td>8.773750</td>\n",
       "      <td>0.026989</td>\n",
       "      <td>93.826500</td>\n",
       "      <td>1987.000000</td>\n",
       "      <td>834.247400</td>\n",
       "    </tr>\n",
       "    <tr>\n",
       "      <th>50%</th>\n",
       "      <td>12.600000</td>\n",
       "      <td>0.053931</td>\n",
       "      <td>143.012800</td>\n",
       "      <td>1999.000000</td>\n",
       "      <td>1794.331000</td>\n",
       "    </tr>\n",
       "    <tr>\n",
       "      <th>75%</th>\n",
       "      <td>16.850000</td>\n",
       "      <td>0.094585</td>\n",
       "      <td>185.643700</td>\n",
       "      <td>2004.000000</td>\n",
       "      <td>3101.296400</td>\n",
       "    </tr>\n",
       "    <tr>\n",
       "      <th>max</th>\n",
       "      <td>21.350000</td>\n",
       "      <td>0.328391</td>\n",
       "      <td>266.888400</td>\n",
       "      <td>2009.000000</td>\n",
       "      <td>13086.964800</td>\n",
       "    </tr>\n",
       "  </tbody>\n",
       "</table>\n",
       "</div>"
      ],
      "text/plain": [
       "       Item_Weight  Item_Visibility     Item_MRP  Outlet_Establishment_Year  \\\n",
       "count  7060.000000      8523.000000  8523.000000                8523.000000   \n",
       "mean     12.857645         0.066132   140.992782                1997.831867   \n",
       "std       4.643456         0.051598    62.275067                   8.371760   \n",
       "min       4.555000         0.000000    31.290000                1985.000000   \n",
       "25%       8.773750         0.026989    93.826500                1987.000000   \n",
       "50%      12.600000         0.053931   143.012800                1999.000000   \n",
       "75%      16.850000         0.094585   185.643700                2004.000000   \n",
       "max      21.350000         0.328391   266.888400                2009.000000   \n",
       "\n",
       "       Item_Outlet_Sales  \n",
       "count        8523.000000  \n",
       "mean         2181.288914  \n",
       "std          1706.499616  \n",
       "min            33.290000  \n",
       "25%           834.247400  \n",
       "50%          1794.331000  \n",
       "75%          3101.296400  \n",
       "max         13086.964800  "
      ]
     },
     "execution_count": 6,
     "metadata": {},
     "output_type": "execute_result"
    }
   ],
   "source": [
    "train_data.describe()"
   ]
  },
  {
   "cell_type": "code",
   "execution_count": 7,
   "id": "e03a79d0-b444-49f1-ae38-55ef8b89bde9",
   "metadata": {},
   "outputs": [
    {
     "name": "stdout",
     "output_type": "stream",
     "text": [
      "0\n",
      "0\n"
     ]
    }
   ],
   "source": [
    "for dataset in [train_data,test_data]:\n",
    "    duplicates = dataset[dataset.duplicated()]\n",
    "    num_duplicates = duplicates.shape[0]\n",
    "    print(num_duplicates)"
   ]
  },
  {
   "cell_type": "markdown",
   "id": "c3a424d4-763a-47c5-807b-6b13cfa6680b",
   "metadata": {},
   "source": [
    "### Checking for Null values and removing them"
   ]
  },
  {
   "cell_type": "code",
   "execution_count": 9,
   "id": "f32a903f-5089-4065-b1b7-da4b792b420f",
   "metadata": {},
   "outputs": [
    {
     "data": {
      "text/plain": [
       "Item_Identifier                 0\n",
       "Item_Weight                  1463\n",
       "Item_Fat_Content                0\n",
       "Item_Visibility                 0\n",
       "Item_Type                       0\n",
       "Item_MRP                        0\n",
       "Outlet_Identifier               0\n",
       "Outlet_Establishment_Year       0\n",
       "Outlet_Size                  2410\n",
       "Outlet_Location_Type            0\n",
       "Outlet_Type                     0\n",
       "Item_Outlet_Sales               0\n",
       "dtype: int64"
      ]
     },
     "execution_count": 9,
     "metadata": {},
     "output_type": "execute_result"
    }
   ],
   "source": [
    "train_data.isnull().sum()"
   ]
  },
  {
   "cell_type": "code",
   "execution_count": 10,
   "id": "ae748f5c-1057-4e46-bd6e-1107d7a1de22",
   "metadata": {},
   "outputs": [
    {
     "data": {
      "text/plain": [
       "Item_Identifier                 0\n",
       "Item_Weight                   976\n",
       "Item_Fat_Content                0\n",
       "Item_Visibility                 0\n",
       "Item_Type                       0\n",
       "Item_MRP                        0\n",
       "Outlet_Identifier               0\n",
       "Outlet_Establishment_Year       0\n",
       "Outlet_Size                  1606\n",
       "Outlet_Location_Type            0\n",
       "Outlet_Type                     0\n",
       "dtype: int64"
      ]
     },
     "execution_count": 10,
     "metadata": {},
     "output_type": "execute_result"
    }
   ],
   "source": [
    "test_data.isnull().sum()"
   ]
  },
  {
   "cell_type": "code",
   "execution_count": null,
   "id": "356423ec-e552-4e80-9a16-664b55fc2dab",
   "metadata": {},
   "outputs": [],
   "source": [
    "### median imputation of \"Item_Weight\" Column"
   ]
  },
  {
   "cell_type": "code",
   "execution_count": 12,
   "id": "0966b143-14de-4afb-af3d-b696ed6ad421",
   "metadata": {},
   "outputs": [
    {
     "name": "stdout",
     "output_type": "stream",
     "text": [
      "0 0\n"
     ]
    }
   ],
   "source": [
    "for dataset in [train_data, test_data]:\n",
    "    dataset['Item_Weight'] = dataset['Item_Weight'].fillna(dataset['Item_Weight'].median())\n",
    "train_null_count = train_data['Item_Weight'].isnull().sum()\n",
    "test_null_count = test_data['Item_Weight'].isnull().sum()\n",
    "print(train_null_count,test_null_count)"
   ]
  },
  {
   "cell_type": "code",
   "execution_count": 13,
   "id": "e2780a16-158a-4020-87ad-42b3af59192d",
   "metadata": {},
   "outputs": [
    {
     "data": {
      "text/html": [
       "<div>\n",
       "<style scoped>\n",
       "    .dataframe tbody tr th:only-of-type {\n",
       "        vertical-align: middle;\n",
       "    }\n",
       "\n",
       "    .dataframe tbody tr th {\n",
       "        vertical-align: top;\n",
       "    }\n",
       "\n",
       "    .dataframe thead th {\n",
       "        text-align: right;\n",
       "    }\n",
       "</style>\n",
       "<table border=\"1\" class=\"dataframe\">\n",
       "  <thead>\n",
       "    <tr style=\"text-align: right;\">\n",
       "      <th></th>\n",
       "      <th>Outlet_Identifier</th>\n",
       "      <th>Outlet_Establishment_Year</th>\n",
       "      <th>Outlet_Size</th>\n",
       "      <th>Outlet_Location_Type</th>\n",
       "      <th>Outlet_Type</th>\n",
       "      <th>Item_Outlet_Sales</th>\n",
       "    </tr>\n",
       "  </thead>\n",
       "  <tbody>\n",
       "    <tr>\n",
       "      <th>0</th>\n",
       "      <td>OUT049</td>\n",
       "      <td>1999</td>\n",
       "      <td>Medium</td>\n",
       "      <td>Tier 1</td>\n",
       "      <td>Supermarket Type1</td>\n",
       "      <td>3735.1380</td>\n",
       "    </tr>\n",
       "    <tr>\n",
       "      <th>1</th>\n",
       "      <td>OUT018</td>\n",
       "      <td>2009</td>\n",
       "      <td>Medium</td>\n",
       "      <td>Tier 3</td>\n",
       "      <td>Supermarket Type2</td>\n",
       "      <td>443.4228</td>\n",
       "    </tr>\n",
       "    <tr>\n",
       "      <th>2</th>\n",
       "      <td>OUT049</td>\n",
       "      <td>1999</td>\n",
       "      <td>Medium</td>\n",
       "      <td>Tier 1</td>\n",
       "      <td>Supermarket Type1</td>\n",
       "      <td>2097.2700</td>\n",
       "    </tr>\n",
       "    <tr>\n",
       "      <th>3</th>\n",
       "      <td>OUT010</td>\n",
       "      <td>1998</td>\n",
       "      <td>NaN</td>\n",
       "      <td>Tier 3</td>\n",
       "      <td>Grocery Store</td>\n",
       "      <td>732.3800</td>\n",
       "    </tr>\n",
       "    <tr>\n",
       "      <th>4</th>\n",
       "      <td>OUT013</td>\n",
       "      <td>1987</td>\n",
       "      <td>High</td>\n",
       "      <td>Tier 3</td>\n",
       "      <td>Supermarket Type1</td>\n",
       "      <td>994.7052</td>\n",
       "    </tr>\n",
       "  </tbody>\n",
       "</table>\n",
       "</div>"
      ],
      "text/plain": [
       "  Outlet_Identifier  Outlet_Establishment_Year Outlet_Size  \\\n",
       "0            OUT049                       1999      Medium   \n",
       "1            OUT018                       2009      Medium   \n",
       "2            OUT049                       1999      Medium   \n",
       "3            OUT010                       1998         NaN   \n",
       "4            OUT013                       1987        High   \n",
       "\n",
       "  Outlet_Location_Type        Outlet_Type  Item_Outlet_Sales  \n",
       "0               Tier 1  Supermarket Type1          3735.1380  \n",
       "1               Tier 3  Supermarket Type2           443.4228  \n",
       "2               Tier 1  Supermarket Type1          2097.2700  \n",
       "3               Tier 3      Grocery Store           732.3800  \n",
       "4               Tier 3  Supermarket Type1           994.7052  "
      ]
     },
     "execution_count": 13,
     "metadata": {},
     "output_type": "execute_result"
    }
   ],
   "source": [
    "outlet_columns = [col for col in train_data.columns if 'Outlet' in col]\n",
    "outlet_data = train_data[outlet_columns]\n",
    "outlet_data.head()"
   ]
  },
  {
   "cell_type": "code",
   "execution_count": 14,
   "id": "fa028954-f66a-4fb7-bc1b-1770be72016b",
   "metadata": {},
   "outputs": [
    {
     "data": {
      "text/html": [
       "<div>\n",
       "<style scoped>\n",
       "    .dataframe tbody tr th:only-of-type {\n",
       "        vertical-align: middle;\n",
       "    }\n",
       "\n",
       "    .dataframe tbody tr th {\n",
       "        vertical-align: top;\n",
       "    }\n",
       "\n",
       "    .dataframe thead th {\n",
       "        text-align: right;\n",
       "    }\n",
       "</style>\n",
       "<table border=\"1\" class=\"dataframe\">\n",
       "  <thead>\n",
       "    <tr style=\"text-align: right;\">\n",
       "      <th></th>\n",
       "      <th>Outlet_Identifier</th>\n",
       "      <th>Outlet_Establishment_Year</th>\n",
       "      <th>Outlet_Size</th>\n",
       "      <th>Outlet_Location_Type</th>\n",
       "      <th>Outlet_Type</th>\n",
       "      <th>Item_Outlet_Sales</th>\n",
       "    </tr>\n",
       "  </thead>\n",
       "  <tbody>\n",
       "    <tr>\n",
       "      <th>3</th>\n",
       "      <td>OUT010</td>\n",
       "      <td>1998</td>\n",
       "      <td>NaN</td>\n",
       "      <td>Tier 3</td>\n",
       "      <td>Grocery Store</td>\n",
       "      <td>732.3800</td>\n",
       "    </tr>\n",
       "    <tr>\n",
       "      <th>8</th>\n",
       "      <td>OUT045</td>\n",
       "      <td>2002</td>\n",
       "      <td>NaN</td>\n",
       "      <td>Tier 2</td>\n",
       "      <td>Supermarket Type1</td>\n",
       "      <td>1076.5986</td>\n",
       "    </tr>\n",
       "    <tr>\n",
       "      <th>9</th>\n",
       "      <td>OUT017</td>\n",
       "      <td>2007</td>\n",
       "      <td>NaN</td>\n",
       "      <td>Tier 2</td>\n",
       "      <td>Supermarket Type1</td>\n",
       "      <td>4710.5350</td>\n",
       "    </tr>\n",
       "    <tr>\n",
       "      <th>25</th>\n",
       "      <td>OUT017</td>\n",
       "      <td>2007</td>\n",
       "      <td>NaN</td>\n",
       "      <td>Tier 2</td>\n",
       "      <td>Supermarket Type1</td>\n",
       "      <td>838.9080</td>\n",
       "    </tr>\n",
       "    <tr>\n",
       "      <th>28</th>\n",
       "      <td>OUT010</td>\n",
       "      <td>1998</td>\n",
       "      <td>NaN</td>\n",
       "      <td>Tier 3</td>\n",
       "      <td>Grocery Store</td>\n",
       "      <td>178.4344</td>\n",
       "    </tr>\n",
       "  </tbody>\n",
       "</table>\n",
       "</div>"
      ],
      "text/plain": [
       "   Outlet_Identifier  Outlet_Establishment_Year Outlet_Size  \\\n",
       "3             OUT010                       1998         NaN   \n",
       "8             OUT045                       2002         NaN   \n",
       "9             OUT017                       2007         NaN   \n",
       "25            OUT017                       2007         NaN   \n",
       "28            OUT010                       1998         NaN   \n",
       "\n",
       "   Outlet_Location_Type        Outlet_Type  Item_Outlet_Sales  \n",
       "3                Tier 3      Grocery Store           732.3800  \n",
       "8                Tier 2  Supermarket Type1          1076.5986  \n",
       "9                Tier 2  Supermarket Type1          4710.5350  \n",
       "25               Tier 2  Supermarket Type1           838.9080  \n",
       "28               Tier 3      Grocery Store           178.4344  "
      ]
     },
     "execution_count": 14,
     "metadata": {},
     "output_type": "execute_result"
    }
   ],
   "source": [
    "outlet_size_missing = outlet_data[train_data['Outlet_Size'].isnull()]\n",
    "outlet_size_missing.head()"
   ]
  },
  {
   "cell_type": "code",
   "execution_count": 15,
   "id": "0306d19b-45d3-4ca6-bf51-dffc2a1f5ab0",
   "metadata": {},
   "outputs": [],
   "source": [
    "#imputation using multiple regression"
   ]
  },
  {
   "cell_type": "code",
   "execution_count": 16,
   "id": "8f66b495-441f-4d28-950a-f008dd35f189",
   "metadata": {},
   "outputs": [],
   "source": [
    "from sklearn.model_selection import train_test_split\n",
    "from sklearn.ensemble import RandomForestClassifier"
   ]
  },
  {
   "cell_type": "code",
   "execution_count": 17,
   "id": "9bd875a7-7cad-4491-9d5b-1bdefbb1bafc",
   "metadata": {},
   "outputs": [],
   "source": [
    "for data in [train_data, test_data]:\n",
    "    data_missing_size = data[data['Outlet_Size'].isnull()]\n",
    "    data_non_missing_size = data[data['Outlet_Size'].notnull()]\n",
    "    features = ['Outlet_Location_Type', 'Outlet_Type']\n",
    "    encoded_non_missing = pd.get_dummies(data_non_missing_size[features], drop_first=True)\n",
    "    encoded_missing = pd.get_dummies(data_missing_size[features], drop_first=True)\n",
    "    encoded_non_missing, encoded_missing = encoded_non_missing.align(encoded_missing, join='left', axis=1, fill_value=0)\n",
    "    y = data_non_missing_size['Outlet_Size']\n",
    "    X_train, X_test, y_train, y_test = train_test_split(encoded_non_missing, y, test_size=0.2, random_state=42)\n",
    "    rf_model = RandomForestClassifier(random_state=42)\n",
    "    rf_model.fit(X_train, y_train) \n",
    "    predicted_sizes = rf_model.predict(encoded_missing)\n",
    "    data.loc[data['Outlet_Size'].isnull(), 'Outlet_Size'] = predicted_sizes"
   ]
  },
  {
   "cell_type": "code",
   "execution_count": 18,
   "id": "85089422-82b6-47ab-a342-f88053414a5c",
   "metadata": {},
   "outputs": [
    {
     "data": {
      "text/plain": [
       "Item_Identifier              0\n",
       "Item_Weight                  0\n",
       "Item_Fat_Content             0\n",
       "Item_Visibility              0\n",
       "Item_Type                    0\n",
       "Item_MRP                     0\n",
       "Outlet_Identifier            0\n",
       "Outlet_Establishment_Year    0\n",
       "Outlet_Size                  0\n",
       "Outlet_Location_Type         0\n",
       "Outlet_Type                  0\n",
       "Item_Outlet_Sales            0\n",
       "dtype: int64"
      ]
     },
     "execution_count": 18,
     "metadata": {},
     "output_type": "execute_result"
    }
   ],
   "source": [
    "train_data.isnull().sum()"
   ]
  },
  {
   "cell_type": "markdown",
   "id": "9f2bffd3-6ec2-4d45-ae49-a383c2bdeb1b",
   "metadata": {},
   "source": [
    "### Outlier Detection and Removal"
   ]
  },
  {
   "cell_type": "code",
   "execution_count": 20,
   "id": "5718d33a-1baa-47c0-9313-0c83292845ad",
   "metadata": {},
   "outputs": [
    {
     "data": {
      "image/png": "[encoded data removed]",
      "text/plain": [
       "<Figure size 1500x1200 with 6 Axes>"
      ]
     },
     "metadata": {},
     "output_type": "display_data"
    }
   ],
   "source": [
    "import matplotlib.pyplot as plt\n",
    "plt.figure(figsize=(15, 12))\n",
    "columns_to_plot = ['Item_Weight','Item_Visibility','Item_MRP']\n",
    "for i, column in enumerate(columns_to_plot, 1):\n",
    "    plt.subplot(2, 3, i)\n",
    "    plt.boxplot(train_data[column].dropna(), vert=False)\n",
    "    plt.title(f\"Train Data: Boxplot of {column}\")\n",
    "    plt.xlabel(column)\n",
    "for i, column in enumerate(columns_to_plot, 4):\n",
    "    plt.subplot(2, 3, i)\n",
    "    plt.boxplot(test_data[column].dropna(), vert=False)\n",
    "    plt.title(f\"Test Data: Boxplot of {column}\")\n",
    "    plt.xlabel(column)\n",
    "\n",
    "plt.tight_layout()\n",
    "plt.show()"
   ]
  },
  {
   "cell_type": "code",
   "execution_count": 21,
   "id": "782ee669-7863-4936-83eb-d54d24b21e90",
   "metadata": {},
   "outputs": [
    {
     "name": "stdout",
     "output_type": "stream",
     "text": [
      "144\n",
      "113\n"
     ]
    }
   ],
   "source": [
    "for df in [train_data, test_data]:\n",
    "    Q1 = df['Item_Visibility'].quantile(0.25)\n",
    "    Q3 = df['Item_Visibility'].quantile(0.75)\n",
    "    IQR = Q3 - Q1\n",
    "    lower_bound = Q1 - 1.5 * IQR\n",
    "    upper_bound = Q3 + 1.5 * IQR\n",
    "    outliers = df[(df['Item_Visibility'] < lower_bound) | (df['Item_Visibility'] > upper_bound)]\n",
    "    print(len(outliers))  "
   ]
  },
  {
   "cell_type": "code",
   "execution_count": 1,
   "id": "5c82c9e4-38fd-468b-ad53-c431d879d960",
   "metadata": {},
   "outputs": [],
   "source": [
    "### outlier removal"
   ]
  },
  {
   "cell_type": "code",
   "execution_count": 22,
   "id": "ed625db8-8ed8-4cf3-b04c-a05f1c1cbcaa",
   "metadata": {},
   "outputs": [],
   "source": [
    "Q1 = train_data['Item_Visibility'].quantile(0.25)\n",
    "Q3 = train_data['Item_Visibility'].quantile(0.75)\n",
    "IQR = Q3 - Q1\n",
    "lower_bound = Q1 - 1.5 * IQR\n",
    "upper_bound = Q3 + 1.5 * IQR\n",
    "train_data['Item_Visibility'] = train_data['Item_Visibility'].apply(\n",
    "    lambda x: lower_bound if x < lower_bound else (upper_bound if x > upper_bound else x)\n",
    ")"
   ]
  },
  {
   "cell_type": "code",
   "execution_count": 23,
   "id": "26a8b82e-f4e2-4077-b0ed-e2b8511f89c4",
   "metadata": {},
   "outputs": [],
   "source": [
    "Q1 = test_data['Item_Visibility'].quantile(0.25)\n",
    "Q3 = test_data['Item_Visibility'].quantile(0.75)\n",
    "IQR = Q3 - Q1\n",
    "lower_bound = Q1 - 1.5 * IQR\n",
    "upper_bound = Q3 + 1.5 * IQR\n",
    "test_data['Item_Visibility'] = test_data['Item_Visibility'].apply(\n",
    "    lambda x: lower_bound if x < lower_bound else (upper_bound if x > upper_bound else x)\n",
    ")"
   ]
  },
  {
   "cell_type": "code",
   "execution_count": null,
   "id": "93428bd7-78aa-4559-a0d5-30066ea440dc",
   "metadata": {},
   "outputs": [],
   "source": [
    "### again checking for outliers"
   ]
  },
  {
   "cell_type": "code",
   "execution_count": 24,
   "id": "7c8ddef0-e89e-40c5-96ab-baa6d6428b60",
   "metadata": {},
   "outputs": [
    {
     "name": "stdout",
     "output_type": "stream",
     "text": [
      "0\n",
      "0\n"
     ]
    }
   ],
   "source": [
    "for df in [train_data, test_data]:\n",
    "    Q1 = df['Item_Visibility'].quantile(0.25)\n",
    "    Q3 = df['Item_Visibility'].quantile(0.75)\n",
    "    IQR = Q3 - Q1\n",
    "    lower_bound = Q1 - 1.5 * IQR\n",
    "    upper_bound = Q3 + 1.5 * IQR\n",
    "    outliers = df[(df['Item_Visibility'] < lower_bound) | (df['Item_Visibility'] > upper_bound)]\n",
    "    print(len(outliers))  "
   ]
  },
  {
   "cell_type": "markdown",
   "id": "d5f93142-5ee9-4776-a1e8-f801f2ad7469",
   "metadata": {},
   "source": [
    "### Data transformation"
   ]
  },
  {
   "cell_type": "markdown",
   "id": "3221a535-1cfd-4259-8e4a-a37065535aa3",
   "metadata": {},
   "source": [
    "minimum value in 'Item_Visibility' is 0, which makes no practical sense. So consider it like missing information and impute it with mean visibility of that product"
   ]
  },
  {
   "cell_type": "code",
   "execution_count": 25,
   "id": "dca861d5-78ae-4b7c-8923-13606e14934f",
   "metadata": {},
   "outputs": [],
   "source": [
    "for df in [train_data, test_data]:\n",
    "    median_visibility = df['Item_Visibility'].median()\n",
    "    df['Item_Visibility'] = df['Item_Visibility'].replace(0, median_visibility)"
   ]
  },
  {
   "cell_type": "code",
   "execution_count": 26,
   "id": "b19678e3-16ec-448d-a988-236e8165c713",
   "metadata": {},
   "outputs": [
    {
     "name": "stdout",
     "output_type": "stream",
     "text": [
      "Value counts for column Item_Fat_Content:\n",
      "Item_Fat_Content\n",
      "Low Fat    5089\n",
      "Regular    2889\n",
      "LF          316\n",
      "reg         117\n",
      "low fat     112\n",
      "Name: count, dtype: int64\n",
      "--------------------------------------------------\n",
      "Value counts for column Item_Type:\n",
      "Item_Type\n",
      "Fruits and Vegetables    1232\n",
      "Snack Foods              1200\n",
      "Household                 910\n",
      "Frozen Foods              856\n",
      "Dairy                     682\n",
      "Canned                    649\n",
      "Baking Goods              648\n",
      "Health and Hygiene        520\n",
      "Soft Drinks               445\n",
      "Meat                      425\n",
      "Breads                    251\n",
      "Hard Drinks               214\n",
      "Others                    169\n",
      "Starchy Foods             148\n",
      "Breakfast                 110\n",
      "Seafood                    64\n",
      "Name: count, dtype: int64\n",
      "--------------------------------------------------\n",
      "Value counts for column Outlet_Identifier:\n",
      "Outlet_Identifier\n",
      "OUT027    935\n",
      "OUT013    932\n",
      "OUT049    930\n",
      "OUT046    930\n",
      "OUT035    930\n",
      "OUT045    929\n",
      "OUT018    928\n",
      "OUT017    926\n",
      "OUT010    555\n",
      "OUT019    528\n",
      "Name: count, dtype: int64\n",
      "--------------------------------------------------\n",
      "Value counts for column Outlet_Size:\n",
      "Outlet_Size\n",
      "Small     4243\n",
      "Medium    3348\n",
      "High       932\n",
      "Name: count, dtype: int64\n",
      "--------------------------------------------------\n",
      "Value counts for column Outlet_Location_Type:\n",
      "Outlet_Location_Type\n",
      "Tier 3    3350\n",
      "Tier 2    2785\n",
      "Tier 1    2388\n",
      "Name: count, dtype: int64\n",
      "--------------------------------------------------\n",
      "Value counts for column Outlet_Type:\n",
      "Outlet_Type\n",
      "Supermarket Type1    5577\n",
      "Grocery Store        1083\n",
      "Supermarket Type3     935\n",
      "Supermarket Type2     928\n",
      "Name: count, dtype: int64\n",
      "--------------------------------------------------\n"
     ]
    }
   ],
   "source": [
    "for col in train_data.select_dtypes(include='object').columns:\n",
    "    if col != 'Item_Identifier':  \n",
    "        print(f\"Value counts for column {col}:\")\n",
    "        print(train_data[col].value_counts())\n",
    "        print(\"-\" * 50)"
   ]
  },
  {
   "cell_type": "code",
   "execution_count": 27,
   "id": "0eee64cc-7103-4a25-9681-4430dc0d16f6",
   "metadata": {},
   "outputs": [],
   "source": [
    "for dataset in [train_data,test_data]:\n",
    "    dataset['Item_Fat_Content'] = dataset['Item_Fat_Content'].replace({\n",
    "        'Low Fat': 'low_fat',\n",
    "        'LF': 'low_fat',\n",
    "        'low fat': 'low_fat',\n",
    "        'Regular': 'regular',\n",
    "        'reg': 'regular'\n",
    "    })"
   ]
  },
  {
   "cell_type": "code",
   "execution_count": 28,
   "id": "6f3ade1c-34e9-4ef2-959a-ab8165568637",
   "metadata": {},
   "outputs": [
    {
     "data": {
      "text/plain": [
       "Item_Fat_Content\n",
       "low_fat    5517\n",
       "regular    3006\n",
       "Name: count, dtype: int64"
      ]
     },
     "execution_count": 28,
     "metadata": {},
     "output_type": "execute_result"
    }
   ],
   "source": [
    "train_value_counts = train_data['Item_Fat_Content'].value_counts()\n",
    "train_value_counts"
   ]
  },
  {
   "cell_type": "code",
   "execution_count": 29,
   "id": "15ca7ec0-3875-421e-9233-53f98e75679c",
   "metadata": {},
   "outputs": [
    {
     "data": {
      "text/plain": [
       "(8523, 12)"
      ]
     },
     "execution_count": 29,
     "metadata": {},
     "output_type": "execute_result"
    }
   ],
   "source": [
    "train_data.shape"
   ]
  },
  {
   "cell_type": "code",
   "execution_count": 30,
   "id": "db8cd0bb-9e97-44bc-9f1d-b7b9c0aa7ae6",
   "metadata": {},
   "outputs": [
    {
     "data": {
      "text/plain": [
       "(5681, 11)"
      ]
     },
     "execution_count": 30,
     "metadata": {},
     "output_type": "execute_result"
    }
   ],
   "source": [
    "test_data.shape"
   ]
  },
  {
   "cell_type": "code",
   "execution_count": 31,
   "id": "08bced1c-91cc-4400-9993-d9001ddea99e",
   "metadata": {},
   "outputs": [],
   "source": [
    "train_data.to_csv('train_data_cleaned.csv',index=False)\n",
    "test_data.to_csv('test_data_cleaned.csv',index=False)"
   ]
  }
 ],
 "metadata": {
  "kernelspec": {
   "display_name": "Python 3 (ipykernel)",
   "language": "python",
   "name": "python3"
  },
  "language_info": {
   "codemirror_mode": {
    "name": "ipython",
    "version": 3
   },
   "file_extension": ".py",
   "mimetype": "text/x-python",
   "name": "python",
   "nbconvert_exporter": "python",
   "pygments_lexer": "ipython3",
   "version": "3.11.9"
  }
 },
 "nbformat": 4,
 "nbformat_minor": 5
}
